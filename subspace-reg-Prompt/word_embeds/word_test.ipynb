{
 "cells": [
  {
   "cell_type": "code",
   "execution_count": 2,
   "metadata": {},
   "outputs": [],
   "source": [
    "import pandas as pd\n",
    "import numpy as np\n",
    "import pickle"
   ]
  },
  {
   "cell_type": "code",
   "execution_count": 15,
   "metadata": {},
   "outputs": [],
   "source": [
    "with open(\"./cub200_dim500.pickle\",\"rb\") as f:\n",
    "    k = pickle.load(f)"
   ]
  },
  {
   "cell_type": "code",
   "execution_count": 16,
   "metadata": {},
   "outputs": [
    {
     "data": {
      "text/plain": [
       "222"
      ]
     },
     "execution_count": 16,
     "metadata": {},
     "output_type": "execute_result"
    }
   ],
   "source": [
    "len(k.keys())"
   ]
  },
  {
   "cell_type": "code",
   "execution_count": 5,
   "metadata": {},
   "outputs": [
    {
     "data": {
      "text/plain": [
       "dict_keys(['african', 'aircraft', 'ant', 'arctic', 'ashcan', 'bar', 'barrel', 'bars', 'beauty', 'beer', 'beetle', 'black-footed', 'bolete', 'bookshop', 'bottle', 'bowl', 'box', 'boxer', 'bulldog', 'bus', 'cannon', 'carousel', 'carrier', 'carton', 'catamaran', 'chime', 'cliff', 'clog', 'cocktail', 'combination', 'consomme', 'coral', 'crab', 'crate', 'cuirass', 'curtain', 'dalmatian', 'dish', 'dishrag', 'dog', 'dome', 'dugong', 'ear', 'electric', 'fence', 'ferret', 'file', 'finch', 'fire', 'fox', 'french', 'frying', 'garbage', 'golden', 'goose', 'gordon', 'green', 'guitar', 'hair', 'harvestman', 'holster', 'horizontal', 'hotdog', 'hound', 'hourglass', 'house', 'hunting', 'ibizan', 'ipod', 'jellyfish', 'king', 'ladybug', 'lion', 'lipstick', 'lock', 'malamute', 'mamba', 'mastiff', 'meerkat', 'miniature', 'miniskirt', 'missile', 'mixing', 'nematode', 'newfoundland', 'oboe', 'orange', 'organ', 'pan', 'parallel', 'pencil', 'photocopier', 'poncho', 'poodle', 'prayer', 'reef', 'reel', 'retriever', 'rhinoceros', 'robin', 'rock', 'roof', 'rug', 'saluki', 'school', 'scoreboard', 'screen', 'setter', 'shaker', 'shop', 'sign', 'slide', 'slot', 'sloth', 'snorkel', 'solar', 'spider', 'stage', 'street', 'tank', 'theater', 'three-toed', 'tibetan', 'tile', 'tobacco', 'toucan', 'triceratops', 'trifle', 'truck', 'unicycle', 'upright', 'vase', 'walker', 'web', 'white', 'wok', 'wolf', 'worm', 'yawl'])"
      ]
     },
     "execution_count": 5,
     "metadata": {},
     "output_type": "execute_result"
    }
   ],
   "source": [
    "k.keys()"
   ]
  },
  {
   "cell_type": "code",
   "execution_count": null,
   "metadata": {},
   "outputs": [],
   "source": []
  }
 ],
 "metadata": {
  "kernelspec": {
   "display_name": "Python 3.8.13 ('py38-cuda11': conda)",
   "language": "python",
   "name": "python3"
  },
  "language_info": {
   "codemirror_mode": {
    "name": "ipython",
    "version": 3
   },
   "file_extension": ".py",
   "mimetype": "text/x-python",
   "name": "python",
   "nbconvert_exporter": "python",
   "pygments_lexer": "ipython3",
   "version": "3.8.13"
  },
  "orig_nbformat": 4,
  "vscode": {
   "interpreter": {
    "hash": "9372fc40ab880849ec92566c7793ac75dcb41f59a28c6763a82b0240e323922b"
   }
  }
 },
 "nbformat": 4,
 "nbformat_minor": 2
}
